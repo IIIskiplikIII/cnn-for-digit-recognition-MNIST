{
 "cells": [
  {
   "cell_type": "code",
   "execution_count": null,
   "id": "a84ee88a",
   "metadata": {},
   "outputs": [],
   "source": []
  },
  {
   "cell_type": "code",
   "execution_count": 2,
   "metadata": {},
   "outputs": [
    {
     "name": "stdout",
     "output_type": "stream",
     "text": [
      "Tensorflow Version:  2.3.0\n",
      "Keras Version:  2.4.0\n",
      "../Digit_Recognition_with_a_Deep_Neural_Network/data/input/digit-recognizer\\keras_reg_160_10_002.sav\n",
      "../Digit_Recognition_with_a_Deep_Neural_Network/data/input/digit-recognizer\\keras_reg_jl_160_10_002.sav\n",
      "../Digit_Recognition_with_a_Deep_Neural_Network/data/input/digit-recognizer\\sample_submission.csv\n",
      "../Digit_Recognition_with_a_Deep_Neural_Network/data/input/digit-recognizer\\test.csv\n",
      "../Digit_Recognition_with_a_Deep_Neural_Network/data/input/digit-recognizer\\train.csv\n"
     ]
    }
   ],
   "source": [
    "import numpy as np # linear algebra\n",
    "import pandas as pd # data processing, CSV file I/O (e.g. pd.read_csv)\n",
    "import matplotlib.pyplot as plt\n",
    "from functools import partial\n",
    "#import seaborn as sn\n",
    "from sklearn.model_selection import train_test_split\n",
    "\n",
    "from random import seed\n",
    "seed(1)\n",
    "seed = 43\n",
    "\n",
    "import tensorflow as tf\n",
    "from tensorflow import keras\n",
    "from tensorflow import image\n",
    "from tensorflow import core\n",
    "from tensorflow.keras import layers\n",
    "print(\"Tensorflow Version: \", tf.__version__)\n",
    "print(\"Keras Version: \",keras.__version__)\n",
    "\n",
    "\n",
    "kaggle = 0 # Kaggle path active = 1\n",
    "\n",
    "# change your local path here\n",
    "if kaggle == 1 :\n",
    "    MNIST_PATH= '../input/digit-recognizer'\n",
    "else:\n",
    "    MNIST_PATH= '../Digit_Recognition_with_a_Deep_Neural_Network/data/input/digit-recognizer'\n",
    "\n",
    "\n",
    "\n",
    "import os\n",
    "for dirname, _, filenames in os.walk(MNIST_PATH): \n",
    "    for filename in filenames:\n",
    "        print(os.path.join(dirname, filename))\n",
    "        "
   ]
  },
  {
   "cell_type": "markdown",
   "metadata": {},
   "source": [
    "# Introduction - MNIST Training Competition\n",
    "This notebook is a fork of my previous developed notebook for digit recognition. Therefore you will find some parts that look common the the notebook <a href=\"https://www.kaggle.com/skiplik/digit-recognition-with-a-deep-neural-network\">Digit Recognition with a Deep Neural Network</a> and some parts that are completely different.\n",
    "\n",
    "With this I want to take a deeper look in some parts of finetuning hyperparameters. The following list shows some of the finetuning parameters which I will take a look into, one or two ore more ... :\n",
    "- Dwindling / Exploding Gradients\n",
    "    - <b>Initializing the Weights</b>\n",
    "    - <b>Batchnormalization</b>\n",
    "    - <s>Gradient Clipping</s>\n",
    "    - <b>Saturated Activataion Functions</b>\n",
    "- Optimizers\n",
    "    - <s>Momentum Optimizers</s>\n",
    "    - <s>Nesterov</s>\n",
    "    - <s>AdaGrad</s>\n",
    "    - <s>RMSProp</s>\n",
    "    - <b>Adam - Optimizer</b>\n",
    "    - <s>Scheduling Learnrate</s>\n",
    "- Regulations\n",
    "    - <s>Drop-Outs</s>\n",
    "    - <b>l1 / l2 - Regulations</b>\n",
    "    - <s>Monte-Carlo Drop-out ???</s>\n",
    "    - <s>Max Norm Regulations ????</s>\n",
    "\n",
    "Not part of this notebook will be the use of pretrained neural networks (Transferlearning). I just want to list this here for the sake of completeness.\n",
    "\n",
    "Link to the data topic: https://www.kaggle.com/c/digit-recognizer/data\n",
    "\n",
    "As in the previous notebooks I will use Tensorflow with Keras. I already mentioned in other notebooks, I will skip some explanations about the data set here. Moreover I will use the already discovered knowledge about the data and transform/prepare the data rightaway.\n",
    "\n",
    "## Notebook Versions with Different Hyperparameter Configurations\n",
    "As described in the part above, I used/tested different hyperparameter settings to get a little bit closer to its effects on the neural network and the network's results. I know that there are parameters that effect other parameters when they have changed (and therefore should have been changed as well), however in these cases I just tried a little bit around. Sometimes I kept one or two parameters together, which should be together (e.g. kernel initializer \"lecun\" and activation function \"selu\") and sometimes not. The main purpose here was to use them and see the results.\n",
    "\n",
    "Therefore on Kaggle you can look in the different versions of this notebook if you are interested. In the following I will list some versions with the used hyperparameter config in it:\n",
    "- Version 7 and 6:\n",
    "    - Activation Function - \"relu\"\n",
    "    - Initializing Weights - \"He Normalization\"\n",
    "    - Batchnormalization\n",
    "- Version 9:\n",
    "    - Activation Function - \"selu\"\n",
    "    - Initializing Weights - \"LeCun Normal\"\n",
    "- Version 12 and 14:\n",
    "    - Regularisation with L1 and L2\n",
    "- Version 15:\n",
    "    - Activation Function - \"relu\"\n",
    "    - Initializing Weights - \"He Normalization\"\n",
    "    - Batchnormalization\n",
    "    - Optimizer - \"Adam\"\n",
    "\n",
    "The current best run was based on the Version 7 with an accuracy of 0.97657 on the kaggle competition \"Digit Recognzier\"\n",
    "\n",
    "\n",
    "## My other Projects\n",
    "If you are interested in some more clearly analysis of the dataset take a look into my other notebooks about the MNIS-dataset:\n",
    "- Digit Recognition with a Deep Neural Network: https://www.kaggle.com/skiplik/digit-recognition-with-a-deep-neural-network\n",
    "- Another MNIST Try: https://www.kaggle.com/skiplik/another-mnist-try\n",
    "- First NN by Detecting Handwritten Characters: https://www.kaggle.com/skiplik/first-nn-by-detecting-handwritten-characters\n",
    "...\n",
    "\n",
    "\n"
   ]
  },
  {
   "cell_type": "markdown",
   "metadata": {},
   "source": [
    "# Get Data"
   ]
  },
  {
   "cell_type": "code",
   "execution_count": 3,
   "metadata": {},
   "outputs": [],
   "source": [
    "# Data path and file\n",
    "CSV_FILE_TRAIN='train.csv'\n",
    "CSV_FILE_TEST='test.csv'\n",
    "\n",
    "def load_mnist_data(minist_path, csv_file):\n",
    "    csv_path = os.path.join(minist_path, csv_file)\n",
    "    return pd.read_csv(csv_path)\n",
    "\n",
    "def load_mnist_data_manuel(minist_path, csv_file):\n",
    "    csv_path = os.path.join(minist_path, csv_file)\n",
    "    csv_file = open(csv_path, 'r')\n",
    "    csv_data = csv_file.readlines()\n",
    "    csv_file.close()\n",
    "    return csv_data\n",
    "\n",
    "def split_train_val(data, val_ratio):\n",
    "    return \n",
    "    \n",
    "\n",
    "train = load_mnist_data(MNIST_PATH,CSV_FILE_TRAIN)\n",
    "test = load_mnist_data(MNIST_PATH,CSV_FILE_TEST)"
   ]
  },
  {
   "cell_type": "code",
   "execution_count": 4,
   "metadata": {},
   "outputs": [],
   "source": [
    "y = train['label'].copy()\n",
    "X = train.drop(['label'], axis=1)\n",
    "\n",
    "# competition dataset\n",
    "X_test = test.copy()"
   ]
  },
  {
   "cell_type": "markdown",
   "metadata": {},
   "source": [
    "## Train / Val Split"
   ]
  },
  {
   "cell_type": "code",
   "execution_count": 5,
   "metadata": {},
   "outputs": [
    {
     "name": "stdout",
     "output_type": "stream",
     "text": [
      "Shape of the Features:  (42000, 784)\n",
      "Shape of the Labels:  (42000,)\n"
     ]
    }
   ],
   "source": [
    "print(\"Shape of the Features: \",X.shape)\n",
    "print(\"Shape of the Labels: \", y.shape)"
   ]
  },
  {
   "cell_type": "markdown",
   "metadata": {},
   "source": [
    "### Label Value Count\n",
    "Visualizing the label distribution of the full train dataset."
   ]
  },
  {
   "cell_type": "code",
   "execution_count": 6,
   "metadata": {},
   "outputs": [
    {
     "data": {
      "text/plain": [
       "label\n",
       "1    4684\n",
       "7    4401\n",
       "3    4351\n",
       "9    4188\n",
       "2    4177\n",
       "6    4137\n",
       "0    4132\n",
       "4    4072\n",
       "8    4063\n",
       "5    3795\n",
       "dtype: int64"
      ]
     },
     "execution_count": 6,
     "metadata": {},
     "output_type": "execute_result"
    }
   ],
   "source": [
    "train.value_counts('label')"
   ]
  },
  {
   "cell_type": "code",
   "execution_count": 7,
   "metadata": {},
   "outputs": [],
   "source": [
    "X_train, X_val, y_train, y_val = train_test_split(X, y, random_state=seed, test_size=0.20\n",
    "                                                  , stratify=y\n",
    "                                                 )"
   ]
  },
  {
   "cell_type": "markdown",
   "metadata": {},
   "source": [
    "Comparing the equally splitted train- and val-sets based on the given label y."
   ]
  },
  {
   "cell_type": "code",
   "execution_count": 8,
   "metadata": {},
   "outputs": [
    {
     "name": "stdout",
     "output_type": "stream",
     "text": [
      "Train - Set Distribution\n",
      "1    0.111518\n",
      "7    0.104792\n",
      "3    0.103601\n",
      "9    0.099702\n",
      "2    0.099464\n",
      "6    0.098512\n",
      "0    0.098363\n",
      "4    0.096964\n",
      "8    0.096726\n",
      "5    0.090357\n",
      "Name: label, dtype: float64\n",
      "--------------------------------------------------------------\n",
      "--------------------------------------------------------------\n",
      "--------------------------------------------------------------\n",
      "Val - Set Distribution\n",
      "1    0.111548\n",
      "7    0.104762\n",
      "3    0.103571\n",
      "9    0.099762\n",
      "2    0.099405\n",
      "0    0.098452\n",
      "6    0.098452\n",
      "4    0.096905\n",
      "8    0.096786\n",
      "5    0.090357\n",
      "Name: label, dtype: float64\n"
     ]
    }
   ],
   "source": [
    "print(\"Train - Set Distribution\")\n",
    "print(y_train.value_counts() / y_train.value_counts().sum() )\n",
    "print('--------------------------------------------------------------')\n",
    "print('--------------------------------------------------------------')\n",
    "print('--------------------------------------------------------------')\n",
    "print(\"Val - Set Distribution\")\n",
    "print(y_val.value_counts() / y_val.value_counts().sum() )\n"
   ]
  },
  {
   "cell_type": "code",
   "execution_count": 9,
   "metadata": {},
   "outputs": [
    {
     "name": "stdout",
     "output_type": "stream",
     "text": [
      "X:  (42000, 784)\n",
      "X_train:  (33600, 784)\n",
      "X_val:  (8400, 784)\n",
      "y_train:  (33600,)\n",
      "y_val:  (8400,)\n"
     ]
    }
   ],
   "source": [
    "print(\"X: \", X.shape)\n",
    "print(\"X_train: \", X_train.shape)\n",
    "print(\"X_val: \", X_val.shape)\n",
    "\n",
    "print(\"y_train: \", y_train.shape)\n",
    "print(\"y_val: \", y_val.shape)"
   ]
  },
  {
   "cell_type": "markdown",
   "metadata": {},
   "source": [
    "## Building Transforming Piplines"
   ]
  },
  {
   "cell_type": "code",
   "execution_count": 10,
   "metadata": {},
   "outputs": [],
   "source": [
    "from sklearn.pipeline import Pipeline\n",
    "from sklearn.preprocessing import Normalizer\n",
    "from sklearn.preprocessing import StandardScaler\n",
    "\n",
    "pipeline = Pipeline([\n",
    "    #('normalizer', Normalizer())\n",
    "    ('std_scalar',StandardScaler())\n",
    "])"
   ]
  },
  {
   "cell_type": "markdown",
   "metadata": {},
   "source": [
    "## Preprocessing Data"
   ]
  },
  {
   "cell_type": "markdown",
   "metadata": {},
   "source": [
    "### Data Augmentation with Tensorflow Data Api"
   ]
  },
  {
   "cell_type": "code",
   "execution_count": 11,
   "metadata": {},
   "outputs": [],
   "source": [
    "def random_crop(image):\n",
    "    shape = tf.shape(image)\n",
    "    min_dim = tf.reduce_min([shape[0], shape[1]]) * 85 // 100       # croping to 90% of the initial picture \n",
    "    return tf.image.random_crop(image, [min_dim, min_dim, 1])\n",
    "\n",
    "\n",
    "def crop_flip_resize(image, label, flipping = True):\n",
    "    if flipping == True:\n",
    "        cropped_image = random_crop(image)\n",
    "        cropped_image = tf.image.flip_left_right(cropped_image)\n",
    "    else:\n",
    "        cropped_image = random_crop(image)\n",
    "\n",
    "    ## final solution\n",
    "    resized_image = tf.image.resize(cropped_image, [28,28])\n",
    "    final_image = resized_image\n",
    "    #final_image = keras.applications.xception.preprocess_input(resized_image)\n",
    "    return final_image, label  \n",
    "    "
   ]
  },
  {
   "cell_type": "code",
   "execution_count": 12,
   "metadata": {},
   "outputs": [
    {
     "data": {
      "text/plain": [
       "(8400, 784)"
      ]
     },
     "execution_count": 12,
     "metadata": {},
     "output_type": "execute_result"
    }
   ],
   "source": [
    "X_val.shape"
   ]
  },
  {
   "cell_type": "code",
   "execution_count": 13,
   "metadata": {},
   "outputs": [],
   "source": [
    "# converting dataframe format into tensorflow compatible format.\n",
    "X_train = X_train.values.reshape(X_train.shape[0], 28, 28, 1)\n",
    "X_val = X_val.values.reshape(X_val.shape[0], 28, 28, 1)\n",
    "\n",
    "X_train_crop = X_train.copy()\n",
    "X_val_crop = X_val.copy()"
   ]
  },
  {
   "cell_type": "code",
   "execution_count": 14,
   "metadata": {},
   "outputs": [],
   "source": [
    "# Creating tensorbased dataset \n",
    "\n",
    "training_dataset = (\n",
    "    tf.data.Dataset.from_tensor_slices(\n",
    "        (\n",
    "            tf.cast(X_train, tf.float32),\n",
    "            tf.cast(y_train, tf.int32)\n",
    "        )\n",
    "    )\n",
    ")\n",
    "\n",
    "\n",
    "val_dataset = (\n",
    "    tf.data.Dataset.from_tensor_slices(\n",
    "        (\n",
    "             tf.cast(X_val, tf.float32),\n",
    "             tf.cast(y_val, tf.int32)\n",
    "        )\n",
    "    )\n",
    ")\n",
    "\n",
    "\n",
    "training_crop_dataset = (\n",
    "    tf.data.Dataset.from_tensor_slices(\n",
    "        (\n",
    "            tf.cast(X_train_crop, tf.float32),\n",
    "            tf.cast(y_train, tf.int32)\n",
    "        )\n",
    "    )\n",
    ")\n",
    "\n",
    "\n",
    "val_crop_dataset = (\n",
    "    tf.data.Dataset.from_tensor_slices(\n",
    "        (\n",
    "             tf.cast(X_val_crop, tf.float32),\n",
    "             tf.cast(y_val, tf.int32)\n",
    "        )\n",
    "    )\n",
    ")\n"
   ]
  },
  {
   "cell_type": "code",
   "execution_count": 15,
   "metadata": {},
   "outputs": [
    {
     "name": "stdout",
     "output_type": "stream",
     "text": [
      "WARNING:tensorflow:AutoGraph could not transform <function random_crop at 0x000001E968C91820> and will run it as-is.\n",
      "Please report this to the TensorFlow team. When filing the bug, set the verbosity to 10 (on Linux, `export AUTOGRAPH_VERBOSITY=10`) and attach the full output.\n",
      "Cause: module 'gast' has no attribute 'Index'\n",
      "To silence this warning, decorate the function with @tf.autograph.experimental.do_not_convert\n",
      "WARNING: AutoGraph could not transform <function random_crop at 0x000001E968C91820> and will run it as-is.\n",
      "Please report this to the TensorFlow team. When filing the bug, set the verbosity to 10 (on Linux, `export AUTOGRAPH_VERBOSITY=10`) and attach the full output.\n",
      "Cause: module 'gast' has no attribute 'Index'\n",
      "To silence this warning, decorate the function with @tf.autograph.experimental.do_not_convert\n"
     ]
    }
   ],
   "source": [
    "# resizing, croping images via self build function\n",
    "training_crop_dataset = training_crop_dataset.map(partial(crop_flip_resize, flipping=False))\n",
    "val_crop_dataset = val_crop_dataset.map(partial(crop_flip_resize, flipping=False))"
   ]
  },
  {
   "cell_type": "code",
   "execution_count": 16,
   "metadata": {},
   "outputs": [
    {
     "data": {
      "image/png": "[encoded data removed]",
      "text/plain": [
       "<Figure size 432x288 with 1 Axes>"
      ]
     },
     "metadata": {
      "needs_background": "light"
     },
     "output_type": "display_data"
    }
   ],
   "source": [
    "# Visualizing a croped, flipped, resized image from new dataset.\n",
    "for X_values, y_values in training_crop_dataset.take(1):\n",
    "    for index in range(1):\n",
    "        plt.imshow(X_values)"
   ]
  },
  {
   "cell_type": "code",
   "execution_count": 17,
   "metadata": {},
   "outputs": [],
   "source": [
    "# concate the two datasets\n",
    "training_dataset_all = training_dataset.concatenate(training_crop_dataset)\n",
    "val_dataset_all = val_dataset.concatenate(val_crop_dataset)"
   ]
  },
  {
   "cell_type": "code",
   "execution_count": 18,
   "metadata": {},
   "outputs": [
    {
     "name": "stdout",
     "output_type": "stream",
     "text": [
      "training_dataset_all length:  67200\n",
      "val_dataset_all length:  16800\n"
     ]
    }
   ],
   "source": [
    "print(\"training_dataset_all length: \", len(list(training_dataset_all)))\n",
    "print(\"val_dataset_all length: \", len(list(val_dataset_all)))\n"
   ]
  },
  {
   "cell_type": "code",
   "execution_count": 19,
   "metadata": {},
   "outputs": [],
   "source": [
    "# shuffeling and batching data\n",
    "tf.random.set_seed(seed)\n",
    "\n",
    "train_ds = training_dataset_all.shuffle(10000).batch(32).prefetch(1)\n",
    "val_ds = val_dataset_all.shuffle(8000).batch(32).prefetch(1)"
   ]
  },
  {
   "cell_type": "markdown",
   "metadata": {},
   "source": [
    "# Building a Deep Neural Network"
   ]
  },
  {
   "cell_type": "markdown",
   "metadata": {},
   "source": [
    "## Preparing Model Visualization with Tensorboard (not for Kaggle)"
   ]
  },
  {
   "cell_type": "code",
   "execution_count": 20,
   "metadata": {},
   "outputs": [
    {
     "name": "stdout",
     "output_type": "stream",
     "text": [
      "Relative root_logdir:  ../../tensorboard-logs\n"
     ]
    }
   ],
   "source": [
    "root_logdir = \"../../tensorboard-logs\"\n",
    "\n",
    "print(\"Relative root_logdir: \",root_logdir)\n",
    "\n",
    "def get_run_logdir():\n",
    "    import time\n",
    "    run_id = time.strftime(\"run_%Y_%m_%d-%H_%M_%S\")\n",
    "    return os.path.join(root_logdir,run_id)"
   ]
  },
  {
   "cell_type": "code",
   "execution_count": 21,
   "metadata": {},
   "outputs": [
    {
     "name": "stdout",
     "output_type": "stream",
     "text": [
      "Current run logdir for Tensorboard:  ../../tensorboard-logs\\run_2021_11_12-08_56_46\n"
     ]
    }
   ],
   "source": [
    "run_logdir = get_run_logdir()\n",
    "print(\"Current run logdir for Tensorboard: \", run_logdir)"
   ]
  },
  {
   "cell_type": "code",
   "execution_count": 22,
   "metadata": {},
   "outputs": [
    {
     "data": {
      "text/plain": [
       "'../../tensorboard-logs\\\\run_2021_11_12-08_56_46'"
      ]
     },
     "execution_count": 22,
     "metadata": {},
     "output_type": "execute_result"
    }
   ],
   "source": [
    "run_logdir"
   ]
  },
  {
   "cell_type": "markdown",
   "metadata": {},
   "source": [
    "### Keras Callbacks for Tensorboard\n",
    "With Keras there is a way of using Callbacks for the Tensorboard to write log files for the board and visualize the different graphs (loss and val curve)\n"
   ]
  },
  {
   "cell_type": "code",
   "execution_count": 23,
   "metadata": {},
   "outputs": [],
   "source": [
    "tensorboard_cb = keras.callbacks.TensorBoard(run_logdir)"
   ]
  },
  {
   "cell_type": "markdown",
   "metadata": {},
   "source": [
    "## Building Model Architecture"
   ]
  },
  {
   "cell_type": "code",
   "execution_count": 24,
   "id": "236d0a37",
   "metadata": {},
   "outputs": [
    {
     "data": {
      "text/plain": [
       "TensorSpec(shape=(28, 28, 1), dtype=tf.float32, name=None)"
      ]
     },
     "execution_count": 24,
     "metadata": {},
     "output_type": "execute_result"
    }
   ],
   "source": [
    "training_dataset_all.element_spec[0]\n",
    "##val_dataset_all"
   ]
  },
  {
   "cell_type": "code",
   "execution_count": 25,
   "metadata": {},
   "outputs": [],
   "source": [
    "from keras.layers import LeakyReLU\n",
    "\n",
    "input_shape=[784]\n",
    "input_shape_notFlattened=[28,28,1]\n",
    "\n",
    "batch_shape = []\n",
    "\n",
    "\n",
    "learning_rt = 1e-03 \n",
    "activation_fn = \"relu\"\n",
    "initializer = \"he_normal\"\n",
    "regularizer =  None\n",
    "\n",
    "# Model building\n",
    "model = keras.models.Sequential()\n",
    "\n",
    "model.add(keras.layers.Conv2D(filters=64, kernel_size=3, strides=2, padding='same', input_shape=input_shape_notFlattened))\n",
    "model.add(keras.layers.BatchNormalization())\n",
    "model.add(keras.layers.Activation(activation_fn))\n",
    "#max pooling\n",
    "model.add(keras.layers.Conv2D(filters=128, kernel_size=3, strides=2, padding='same'))\n",
    "model.add(keras.layers.BatchNormalization())\n",
    "model.add(keras.layers.Activation(activation_fn))\n",
    "\n",
    "model.add(keras.layers.Flatten())\n",
    "model.add(keras.layers.Dense(10, activation=\"softmax\"))\n",
    "\n",
    "optimizer = keras.optimizers.Adam(learning_rate=learning_rt)\n",
    "\n",
    "model.compile(loss='sparse_categorical_crossentropy', optimizer=optimizer, metrics=['accuracy'] )\n"
   ]
  },
  {
   "cell_type": "code",
   "execution_count": 26,
   "metadata": {},
   "outputs": [
    {
     "name": "stdout",
     "output_type": "stream",
     "text": [
      "Model: \"sequential\"\n",
      "_________________________________________________________________\n",
      "Layer (type)                 Output Shape              Param #   \n",
      "=================================================================\n",
      "conv2d (Conv2D)              (None, 14, 14, 64)        640       \n",
      "_________________________________________________________________\n",
      "batch_normalization (BatchNo (None, 14, 14, 64)        256       \n",
      "_________________________________________________________________\n",
      "activation (Activation)      (None, 14, 14, 64)        0         \n",
      "_________________________________________________________________\n",
      "conv2d_1 (Conv2D)            (None, 7, 7, 128)         73856     \n",
      "_________________________________________________________________\n",
      "batch_normalization_1 (Batch (None, 7, 7, 128)         512       \n",
      "_________________________________________________________________\n",
      "activation_1 (Activation)    (None, 7, 7, 128)         0         \n",
      "_________________________________________________________________\n",
      "flatten (Flatten)            (None, 6272)              0         \n",
      "_________________________________________________________________\n",
      "dense (Dense)                (None, 10)                62730     \n",
      "=================================================================\n",
      "Total params: 137,994\n",
      "Trainable params: 137,610\n",
      "Non-trainable params: 384\n",
      "_________________________________________________________________\n"
     ]
    }
   ],
   "source": [
    "model.build()\n",
    "model.summary()"
   ]
  },
  {
   "cell_type": "markdown",
   "metadata": {},
   "source": [
    "## Model Checkpoints"
   ]
  },
  {
   "cell_type": "code",
   "execution_count": 27,
   "metadata": {},
   "outputs": [],
   "source": [
    "checkpoint_cb = keras.callbacks.ModelCheckpoint(\"my_train_model.h5\", save_best_only=True, save_weights_only=False)"
   ]
  },
  {
   "cell_type": "markdown",
   "metadata": {},
   "source": [
    "## Model Training"
   ]
  },
  {
   "cell_type": "code",
   "execution_count": 28,
   "metadata": {},
   "outputs": [
    {
     "name": "stdout",
     "output_type": "stream",
     "text": [
      "Epoch 1/200\n",
      "   1/2100 [..............................] - ETA: 0s - loss: 3.0415 - accuracy: 0.0625WARNING:tensorflow:From D:\\anaconda3\\envs\\wingpuflake_keras\\lib\\site-packages\\tensorflow\\python\\ops\\summary_ops_v2.py:1277: stop (from tensorflow.python.eager.profiler) is deprecated and will be removed after 2020-07-01.\n",
      "Instructions for updating:\n",
      "use `tf.profiler.experimental.stop` instead.\n",
      "WARNING:tensorflow:Callbacks method `on_train_batch_end` is slow compared to the batch time (batch time: 0.0110s vs `on_train_batch_end` time: 0.0265s). Check your callbacks.\n",
      "2100/2100 [==============================] - 25s 12ms/step - loss: 0.2307 - accuracy: 0.9321 - val_loss: 0.1346 - val_accuracy: 0.9602\n",
      "Epoch 2/200\n",
      "2100/2100 [==============================] - 24s 12ms/step - loss: 0.1035 - accuracy: 0.9676 - val_loss: 0.1009 - val_accuracy: 0.9684\n",
      "Epoch 3/200\n",
      "2100/2100 [==============================] - 25s 12ms/step - loss: 0.0785 - accuracy: 0.9759 - val_loss: 0.0886 - val_accuracy: 0.9721\n",
      "Epoch 4/200\n",
      "2100/2100 [==============================] - 24s 12ms/step - loss: 0.0670 - accuracy: 0.9799 - val_loss: 0.0829 - val_accuracy: 0.9751\n",
      "Epoch 5/200\n",
      "2100/2100 [==============================] - 25s 12ms/step - loss: 0.0556 - accuracy: 0.9833 - val_loss: 0.0742 - val_accuracy: 0.9780\n",
      "Epoch 6/200\n",
      "2100/2100 [==============================] - 25s 12ms/step - loss: 0.0505 - accuracy: 0.9849 - val_loss: 0.0617 - val_accuracy: 0.9815\n",
      "Epoch 7/200\n",
      "2100/2100 [==============================] - 25s 12ms/step - loss: 0.0461 - accuracy: 0.9860 - val_loss: 0.0739 - val_accuracy: 0.9784\n",
      "Epoch 8/200\n",
      "2100/2100 [==============================] - 25s 12ms/step - loss: 0.0425 - accuracy: 0.9875 - val_loss: 0.0596 - val_accuracy: 0.9823\n",
      "Epoch 9/200\n",
      "2100/2100 [==============================] - 25s 12ms/step - loss: 0.0370 - accuracy: 0.9891 - val_loss: 0.0654 - val_accuracy: 0.9804\n",
      "Epoch 10/200\n",
      "2100/2100 [==============================] - 25s 12ms/step - loss: 0.0343 - accuracy: 0.9900 - val_loss: 0.0499 - val_accuracy: 0.9848\n",
      "Epoch 11/200\n",
      "2100/2100 [==============================] - 25s 12ms/step - loss: 0.0333 - accuracy: 0.9902 - val_loss: 0.0537 - val_accuracy: 0.9840\n",
      "Epoch 12/200\n",
      "2100/2100 [==============================] - 26s 12ms/step - loss: 0.0323 - accuracy: 0.9899 - val_loss: 0.0636 - val_accuracy: 0.9807\n",
      "Epoch 13/200\n",
      "2100/2100 [==============================] - 25s 12ms/step - loss: 0.0297 - accuracy: 0.9907 - val_loss: 0.0504 - val_accuracy: 0.9854\n",
      "Epoch 14/200\n",
      "2100/2100 [==============================] - 26s 12ms/step - loss: 0.0296 - accuracy: 0.9914 - val_loss: 0.0558 - val_accuracy: 0.9842\n",
      "Epoch 15/200\n",
      "2100/2100 [==============================] - 25s 12ms/step - loss: 0.0269 - accuracy: 0.9921 - val_loss: 0.0525 - val_accuracy: 0.9854\n",
      "Epoch 16/200\n",
      "2100/2100 [==============================] - 25s 12ms/step - loss: 0.0264 - accuracy: 0.9923 - val_loss: 0.0594 - val_accuracy: 0.9835\n",
      "Epoch 17/200\n",
      "2100/2100 [==============================] - 26s 12ms/step - loss: 0.0253 - accuracy: 0.9923 - val_loss: 0.0534 - val_accuracy: 0.9851\n",
      "Epoch 18/200\n",
      "2100/2100 [==============================] - 26s 12ms/step - loss: 0.0253 - accuracy: 0.9925 - val_loss: 0.0437 - val_accuracy: 0.9877\n",
      "Epoch 19/200\n",
      "2100/2100 [==============================] - 26s 12ms/step - loss: 0.0247 - accuracy: 0.9928 - val_loss: 0.0434 - val_accuracy: 0.9874\n",
      "Epoch 20/200\n",
      "2100/2100 [==============================] - 25s 12ms/step - loss: 0.0233 - accuracy: 0.9932 - val_loss: 0.0487 - val_accuracy: 0.9861\n",
      "Epoch 21/200\n",
      "2100/2100 [==============================] - 26s 12ms/step - loss: 0.0220 - accuracy: 0.9932 - val_loss: 0.0612 - val_accuracy: 0.9843\n",
      "Epoch 22/200\n",
      "2100/2100 [==============================] - 25s 12ms/step - loss: 0.0242 - accuracy: 0.9929 - val_loss: 0.0498 - val_accuracy: 0.9858\n",
      "Epoch 23/200\n",
      "2100/2100 [==============================] - 25s 12ms/step - loss: 0.0218 - accuracy: 0.9934 - val_loss: 0.0471 - val_accuracy: 0.9858\n",
      "Epoch 24/200\n",
      "2100/2100 [==============================] - 26s 12ms/step - loss: 0.0221 - accuracy: 0.9931 - val_loss: 0.0473 - val_accuracy: 0.9875\n",
      "Epoch 25/200\n",
      "2100/2100 [==============================] - 26s 12ms/step - loss: 0.0230 - accuracy: 0.9932 - val_loss: 0.0522 - val_accuracy: 0.9842\n",
      "Epoch 26/200\n",
      "2100/2100 [==============================] - 25s 12ms/step - loss: 0.0222 - accuracy: 0.9935 - val_loss: 0.0479 - val_accuracy: 0.9874\n",
      "Epoch 27/200\n",
      "2100/2100 [==============================] - 25s 12ms/step - loss: 0.0208 - accuracy: 0.9938 - val_loss: 0.0538 - val_accuracy: 0.9850\n",
      "Epoch 28/200\n",
      "2100/2100 [==============================] - 25s 12ms/step - loss: 0.0194 - accuracy: 0.9942 - val_loss: 0.0458 - val_accuracy: 0.9873\n",
      "Epoch 29/200\n",
      "2100/2100 [==============================] - 25s 12ms/step - loss: 0.0191 - accuracy: 0.9942 - val_loss: 0.0467 - val_accuracy: 0.9868\n",
      "Epoch 30/200\n",
      "2100/2100 [==============================] - 26s 12ms/step - loss: 0.0202 - accuracy: 0.9940 - val_loss: 0.0488 - val_accuracy: 0.9871\n",
      "Epoch 31/200\n",
      "2100/2100 [==============================] - 26s 12ms/step - loss: 0.0197 - accuracy: 0.9941 - val_loss: 0.0468 - val_accuracy: 0.9865\n",
      "Epoch 32/200\n",
      "2100/2100 [==============================] - 26s 12ms/step - loss: 0.0193 - accuracy: 0.9940 - val_loss: 0.0492 - val_accuracy: 0.9871\n",
      "Epoch 33/200\n",
      "2100/2100 [==============================] - 26s 12ms/step - loss: 0.0176 - accuracy: 0.9945 - val_loss: 0.0469 - val_accuracy: 0.9870\n",
      "Epoch 34/200\n",
      "2100/2100 [==============================] - 26s 12ms/step - loss: 0.0177 - accuracy: 0.9947 - val_loss: 0.0494 - val_accuracy: 0.9865\n",
      "Epoch 35/200\n",
      "2100/2100 [==============================] - 25s 12ms/step - loss: 0.0183 - accuracy: 0.9942 - val_loss: 0.0502 - val_accuracy: 0.9867\n",
      "Epoch 36/200\n",
      "2100/2100 [==============================] - 25s 12ms/step - loss: 0.0175 - accuracy: 0.9947 - val_loss: 0.0490 - val_accuracy: 0.9869\n",
      "Epoch 37/200\n",
      "2100/2100 [==============================] - 25s 12ms/step - loss: 0.0166 - accuracy: 0.9950 - val_loss: 0.0584 - val_accuracy: 0.9852\n",
      "Epoch 38/200\n",
      "2100/2100 [==============================] - 25s 12ms/step - loss: 0.0175 - accuracy: 0.9949 - val_loss: 0.0512 - val_accuracy: 0.9875\n",
      "Epoch 39/200\n",
      "2100/2100 [==============================] - 25s 12ms/step - loss: 0.0173 - accuracy: 0.9948 - val_loss: 0.0486 - val_accuracy: 0.9874\n"
     ]
    }
   ],
   "source": [
    "history = model.fit(train_ds, epochs=200, validation_data=val_ds, callbacks=[checkpoint_cb, keras.callbacks.EarlyStopping(patience=20), tensorboard_cb])"
   ]
  },
  {
   "cell_type": "markdown",
   "metadata": {},
   "source": [
    "## Visualizing the Progress"
   ]
  },
  {
   "cell_type": "code",
   "execution_count": 29,
   "metadata": {},
   "outputs": [
    {
     "data": {
      "image/png": "[encoded data removed]",
      "text/plain": [
       "<Figure size 432x288 with 1 Axes>"
      ]
     },
     "metadata": {
      "needs_background": "light"
     },
     "output_type": "display_data"
    }
   ],
   "source": [
    "plt.plot(pd.DataFrame(history.history))\n",
    "plt.show()"
   ]
  },
  {
   "cell_type": "markdown",
   "metadata": {},
   "source": [
    "### Model Training with Full Dataset \n",
    "In this part I will train the model with the full dataset. This time I will use the discovered hyperparameters from previous section."
   ]
  },
  {
   "cell_type": "code",
   "execution_count": 30,
   "metadata": {},
   "outputs": [],
   "source": [
    "\n",
    "# Model building\n",
    "model_full = keras.models.Sequential()\n",
    "\n",
    "model_full.add(keras.layers.Conv2D(filters=64, kernel_size=3, strides=2, padding='same', input_shape=input_shape_notFlattened))\n",
    "model_full.add(keras.layers.BatchNormalization())\n",
    "model_full.add(keras.layers.Activation(activation_fn))\n",
    "model_full.add(keras.layers.Conv2D(filters=128, kernel_size=3, strides=2, padding='same'))\n",
    "model_full.add(keras.layers.BatchNormalization())\n",
    "model_full.add(keras.layers.Activation(activation_fn))\n",
    "model_full.add(keras.layers.Flatten())\n",
    "model_full.add(keras.layers.Dense(10, activation=\"softmax\"))\n",
    "\n",
    "optimizer = keras.optimizers.Adam(learning_rate=learning_rt)\n",
    "\n",
    "model_full.compile(loss='sparse_categorical_crossentropy', optimizer=optimizer, metrics=['accuracy'] )"
   ]
  },
  {
   "cell_type": "code",
   "execution_count": 31,
   "metadata": {},
   "outputs": [
    {
     "name": "stdout",
     "output_type": "stream",
     "text": [
      "Model: \"sequential_1\"\n",
      "_________________________________________________________________\n",
      "Layer (type)                 Output Shape              Param #   \n",
      "=================================================================\n",
      "conv2d_2 (Conv2D)            (None, 14, 14, 64)        640       \n",
      "_________________________________________________________________\n",
      "batch_normalization_2 (Batch (None, 14, 14, 64)        256       \n",
      "_________________________________________________________________\n",
      "activation_2 (Activation)    (None, 14, 14, 64)        0         \n",
      "_________________________________________________________________\n",
      "conv2d_3 (Conv2D)            (None, 7, 7, 128)         73856     \n",
      "_________________________________________________________________\n",
      "batch_normalization_3 (Batch (None, 7, 7, 128)         512       \n",
      "_________________________________________________________________\n",
      "activation_3 (Activation)    (None, 7, 7, 128)         0         \n",
      "_________________________________________________________________\n",
      "flatten_1 (Flatten)          (None, 6272)              0         \n",
      "_________________________________________________________________\n",
      "dense_1 (Dense)              (None, 10)                62730     \n",
      "=================================================================\n",
      "Total params: 137,994\n",
      "Trainable params: 137,610\n",
      "Non-trainable params: 384\n",
      "_________________________________________________________________\n"
     ]
    }
   ],
   "source": [
    "model_full.summary()"
   ]
  },
  {
   "cell_type": "code",
   "execution_count": 32,
   "metadata": {},
   "outputs": [],
   "source": [
    "# creating a new log dir for tensorboard\n",
    "tensorboard_cb_f = keras.callbacks.TensorBoard(get_run_logdir())\n",
    "checkpoint_cb_f = keras.callbacks.ModelCheckpoint(\"my_modell_full.h5\", save_best_only=False, save_weights_only=False)"
   ]
  },
  {
   "cell_type": "code",
   "execution_count": 33,
   "metadata": {},
   "outputs": [],
   "source": [
    "# preparing full features set (X) for the tensorflow data api\n",
    "\n",
    "training_dataset_all = training_dataset.concatenate(training_crop_dataset)\n",
    "val_dataset_all = val_dataset.concatenate(val_crop_dataset)\n",
    "\n",
    "training_ds_all = training_dataset_all.concatenate(val_dataset_all)\n",
    "\n",
    "training_ds_all = training_ds_all.shuffle(20000).batch(32).prefetch(1)"
   ]
  },
  {
   "cell_type": "code",
   "execution_count": 34,
   "metadata": {},
   "outputs": [
    {
     "name": "stdout",
     "output_type": "stream",
     "text": [
      "Epoch 1/60\n",
      "   2/2625 [..............................] - ETA: 9:06 - loss: 2.7900 - accuracy: 0.1719WARNING:tensorflow:Callbacks method `on_train_batch_end` is slow compared to the batch time (batch time: 0.0115s vs `on_train_batch_end` time: 0.4050s). Check your callbacks.\n",
      "2625/2625 [==============================] - 29s 11ms/step - loss: 0.2074 - accuracy: 0.9384\n",
      "Epoch 2/60\n",
      "2625/2625 [==============================] - 29s 11ms/step - loss: 0.0963 - accuracy: 0.9709\n",
      "Epoch 3/60\n",
      "2625/2625 [==============================] - 29s 11ms/step - loss: 0.0732 - accuracy: 0.9776\n",
      "Epoch 4/60\n",
      "2625/2625 [==============================] - 29s 11ms/step - loss: 0.0582 - accuracy: 0.9823\n",
      "Epoch 5/60\n",
      "2625/2625 [==============================] - 30s 11ms/step - loss: 0.0501 - accuracy: 0.9847\n",
      "Epoch 6/60\n",
      "2625/2625 [==============================] - 30s 11ms/step - loss: 0.0453 - accuracy: 0.9859\n",
      "Epoch 7/60\n",
      "2625/2625 [==============================] - 30s 11ms/step - loss: 0.0398 - accuracy: 0.9875\n",
      "Epoch 8/60\n",
      "2625/2625 [==============================] - 29s 11ms/step - loss: 0.0369 - accuracy: 0.9887\n",
      "Epoch 9/60\n",
      "2625/2625 [==============================] - 30s 12ms/step - loss: 0.0345 - accuracy: 0.9896\n",
      "Epoch 10/60\n",
      "2625/2625 [==============================] - 30s 11ms/step - loss: 0.0323 - accuracy: 0.9900\n",
      "Epoch 11/60\n",
      "2625/2625 [==============================] - 30s 12ms/step - loss: 0.0309 - accuracy: 0.9904\n",
      "Epoch 12/60\n",
      "2625/2625 [==============================] - 30s 11ms/step - loss: 0.0293 - accuracy: 0.9912\n",
      "Epoch 13/60\n",
      "2625/2625 [==============================] - 30s 12ms/step - loss: 0.0284 - accuracy: 0.9914\n",
      "Epoch 14/60\n",
      "2625/2625 [==============================] - 31s 12ms/step - loss: 0.0262 - accuracy: 0.9921\n",
      "Epoch 15/60\n",
      "2625/2625 [==============================] - 31s 12ms/step - loss: 0.0258 - accuracy: 0.9920\n",
      "Epoch 16/60\n",
      "2625/2625 [==============================] - 30s 11ms/step - loss: 0.0257 - accuracy: 0.9922\n",
      "Epoch 17/60\n",
      "2625/2625 [==============================] - 30s 12ms/step - loss: 0.0228 - accuracy: 0.9932\n",
      "Epoch 18/60\n",
      "2625/2625 [==============================] - 30s 12ms/step - loss: 0.0244 - accuracy: 0.9926\n",
      "Epoch 19/60\n",
      "2625/2625 [==============================] - 31s 12ms/step - loss: 0.0228 - accuracy: 0.9933\n",
      "Epoch 20/60\n",
      "2625/2625 [==============================] - 30s 11ms/step - loss: 0.0227 - accuracy: 0.9929\n",
      "Epoch 21/60\n",
      "2625/2625 [==============================] - 29s 11ms/step - loss: 0.0222 - accuracy: 0.9935\n",
      "Epoch 22/60\n",
      "2625/2625 [==============================] - 29s 11ms/step - loss: 0.0205 - accuracy: 0.9937\n",
      "Epoch 23/60\n",
      "2625/2625 [==============================] - 30s 11ms/step - loss: 0.0205 - accuracy: 0.9939\n",
      "Epoch 24/60\n",
      "2625/2625 [==============================] - 29s 11ms/step - loss: 0.0197 - accuracy: 0.9941\n",
      "Epoch 25/60\n",
      "2625/2625 [==============================] - 30s 11ms/step - loss: 0.0208 - accuracy: 0.9939\n",
      "Epoch 26/60\n",
      "2625/2625 [==============================] - 30s 11ms/step - loss: 0.0190 - accuracy: 0.9944\n",
      "Epoch 27/60\n",
      "2625/2625 [==============================] - 30s 11ms/step - loss: 0.0196 - accuracy: 0.9940\n",
      "Epoch 28/60\n",
      "2625/2625 [==============================] - 29s 11ms/step - loss: 0.0194 - accuracy: 0.9939\n",
      "Epoch 29/60\n",
      "2625/2625 [==============================] - 30s 12ms/step - loss: 0.0179 - accuracy: 0.9945\n",
      "Epoch 30/60\n",
      "2625/2625 [==============================] - 30s 11ms/step - loss: 0.0187 - accuracy: 0.9943\n",
      "Epoch 31/60\n",
      "2625/2625 [==============================] - 30s 11ms/step - loss: 0.0180 - accuracy: 0.9944\n",
      "Epoch 32/60\n",
      "2625/2625 [==============================] - 30s 11ms/step - loss: 0.0177 - accuracy: 0.9945\n",
      "Epoch 33/60\n",
      "2625/2625 [==============================] - 30s 11ms/step - loss: 0.0190 - accuracy: 0.9944\n",
      "Epoch 34/60\n",
      "2625/2625 [==============================] - 30s 12ms/step - loss: 0.0168 - accuracy: 0.9948\n",
      "Epoch 35/60\n",
      "2625/2625 [==============================] - 30s 11ms/step - loss: 0.0170 - accuracy: 0.9952\n",
      "Epoch 36/60\n",
      "2625/2625 [==============================] - 30s 11ms/step - loss: 0.0179 - accuracy: 0.9948\n",
      "Epoch 37/60\n",
      "2625/2625 [==============================] - 30s 11ms/step - loss: 0.0164 - accuracy: 0.9951\n",
      "Epoch 38/60\n",
      "2625/2625 [==============================] - 30s 11ms/step - loss: 0.0158 - accuracy: 0.9951\n",
      "Epoch 39/60\n",
      "2625/2625 [==============================] - 30s 11ms/step - loss: 0.0162 - accuracy: 0.9949\n",
      "Epoch 40/60\n",
      "2625/2625 [==============================] - 31s 12ms/step - loss: 0.0159 - accuracy: 0.9951\n",
      "Epoch 41/60\n",
      "2625/2625 [==============================] - 30s 11ms/step - loss: 0.0177 - accuracy: 0.9947\n",
      "Epoch 42/60\n",
      "2625/2625 [==============================] - 30s 11ms/step - loss: 0.0156 - accuracy: 0.9955\n",
      "Epoch 43/60\n",
      "2625/2625 [==============================] - 30s 11ms/step - loss: 0.0154 - accuracy: 0.9954\n",
      "Epoch 44/60\n",
      "2625/2625 [==============================] - 30s 11ms/step - loss: 0.0149 - accuracy: 0.9955\n",
      "Epoch 45/60\n",
      "2625/2625 [==============================] - 30s 11ms/step - loss: 0.0152 - accuracy: 0.9954\n",
      "Epoch 46/60\n",
      "2625/2625 [==============================] - 30s 11ms/step - loss: 0.0149 - accuracy: 0.9957\n",
      "Epoch 47/60\n",
      "2625/2625 [==============================] - 30s 11ms/step - loss: 0.0155 - accuracy: 0.9952\n",
      "Epoch 48/60\n",
      "2625/2625 [==============================] - 30s 11ms/step - loss: 0.0147 - accuracy: 0.9954\n",
      "Epoch 49/60\n",
      "2625/2625 [==============================] - 30s 11ms/step - loss: 0.0146 - accuracy: 0.9954\n",
      "Epoch 50/60\n",
      "2625/2625 [==============================] - 30s 11ms/step - loss: 0.0142 - accuracy: 0.9956\n",
      "Epoch 51/60\n",
      "2625/2625 [==============================] - 30s 12ms/step - loss: 0.0141 - accuracy: 0.9957\n",
      "Epoch 52/60\n",
      "2625/2625 [==============================] - 30s 11ms/step - loss: 0.0132 - accuracy: 0.9960\n",
      "Epoch 53/60\n",
      "2625/2625 [==============================] - 30s 11ms/step - loss: 0.0144 - accuracy: 0.9954\n",
      "Epoch 54/60\n",
      "2625/2625 [==============================] - 30s 11ms/step - loss: 0.0138 - accuracy: 0.9955\n",
      "Epoch 55/60\n",
      "2625/2625 [==============================] - 30s 11ms/step - loss: 0.0149 - accuracy: 0.9954\n",
      "Epoch 56/60\n",
      "2625/2625 [==============================] - 30s 11ms/step - loss: 0.0142 - accuracy: 0.9956\n",
      "Epoch 57/60\n",
      "2625/2625 [==============================] - 30s 11ms/step - loss: 0.0136 - accuracy: 0.9958\n",
      "Epoch 58/60\n",
      "2625/2625 [==============================] - 30s 11ms/step - loss: 0.0125 - accuracy: 0.9958\n",
      "Epoch 59/60\n",
      "2625/2625 [==============================] - 30s 11ms/step - loss: 0.0128 - accuracy: 0.9963\n",
      "Epoch 60/60\n",
      "2625/2625 [==============================] - 30s 11ms/step - loss: 0.0136 - accuracy: 0.9958\n"
     ]
    }
   ],
   "source": [
    "# Train the model again pleeeeease with all you got .... especially the new transformed data matrix X \n",
    "history_full = model_full.fit(training_ds_all, epochs=60, callbacks=[tensorboard_cb_f, checkpoint_cb_f])"
   ]
  },
  {
   "cell_type": "code",
   "execution_count": 47,
   "metadata": {},
   "outputs": [
    {
     "data": {
      "image/png": "[encoded data removed]",
      "text/plain": [
       "<Figure size 432x288 with 1 Axes>"
      ]
     },
     "metadata": {
      "needs_background": "light"
     },
     "output_type": "display_data"
    }
   ],
   "source": [
    "plt.plot(pd.DataFrame(history_full.history))\n",
    "plt.show()"
   ]
  },
  {
   "cell_type": "markdown",
   "metadata": {},
   "source": [
    "# Image Prediction of Unknown Data (Test Data)"
   ]
  },
  {
   "cell_type": "markdown",
   "metadata": {},
   "source": [
    "## Peparing Test Data\n",
    "As well as previously done, we need to create a TF dataset of the test set as well."
   ]
  },
  {
   "cell_type": "code",
   "execution_count": 36,
   "metadata": {},
   "outputs": [],
   "source": [
    "# converting dataframe format into tensorflow compatible format.\n",
    "X_test = X_test.values.reshape(X_test.shape[0], 28, 28, 1)\n",
    "\n",
    "\n",
    "test_dataset = (\n",
    "    tf.data.Dataset.from_tensor_slices(\n",
    "        (\n",
    "            tf.cast(X_test, tf.float32)\n",
    "        )\n",
    "    )\n",
    ")"
   ]
  },
  {
   "cell_type": "code",
   "execution_count": 37,
   "metadata": {},
   "outputs": [
    {
     "data": {
      "text/plain": [
       "<TensorSliceDataset shapes: (28, 28, 1), types: tf.float32>"
      ]
     },
     "execution_count": 37,
     "metadata": {},
     "output_type": "execute_result"
    }
   ],
   "source": [
    "test_dataset"
   ]
  },
  {
   "cell_type": "code",
   "execution_count": 38,
   "metadata": {},
   "outputs": [],
   "source": [
    "test_ds = test_dataset.batch(32).prefetch(1)"
   ]
  },
  {
   "cell_type": "markdown",
   "metadata": {},
   "source": [
    "## Creating Competition File"
   ]
  },
  {
   "cell_type": "code",
   "execution_count": 39,
   "metadata": {},
   "outputs": [],
   "source": [
    "mnist_competition_file = pd.DataFrame(columns=['ImageId','Label'])"
   ]
  },
  {
   "cell_type": "markdown",
   "metadata": {},
   "source": [
    "## Prediction of Testdata"
   ]
  },
  {
   "cell_type": "code",
   "execution_count": 40,
   "metadata": {
    "scrolled": true
   },
   "outputs": [
    {
     "data": {
      "image/png": "[encoded data removed]",
      "text/plain": [
       "<Figure size 864x864 with 1 Axes>"
      ]
     },
     "metadata": {
      "needs_background": "light"
     },
     "output_type": "display_data"
    }
   ],
   "source": [
    "# Visualizing the image\n",
    "plt.figure(figsize=(12, 12))\n",
    "for X_batch in test_ds.take(1):\n",
    "    for index in range(1):\n",
    "        plt.subplot(3, 3, index + 1)\n",
    "        plt.imshow(X_batch[index])\n",
    "\n",
    "plt.show()"
   ]
  },
  {
   "cell_type": "code",
   "execution_count": 41,
   "metadata": {},
   "outputs": [
    {
     "name": "stdout",
     "output_type": "stream",
     "text": [
      "Propability of all lables for given pixels:  [9.5746900e-18 1.6445102e-18 1.0000000e+00 7.1260437e-12 2.3395641e-14\n",
      " 6.0765847e-16 4.1415867e-20 6.7374364e-17 5.5961521e-17 5.5111600e-16]\n"
     ]
    }
   ],
   "source": [
    "for element in test_ds.take(1):\n",
    "    print(\"Propability of all lables for given pixels: \", model_full.predict(test_ds.take(1))[0])"
   ]
  },
  {
   "cell_type": "code",
   "execution_count": 42,
   "metadata": {},
   "outputs": [
    {
     "name": "stdout",
     "output_type": "stream",
     "text": [
      "Predicted Digit:  2\n"
     ]
    }
   ],
   "source": [
    "print(\"Predicted Digit: \",np.argmax(model_full.predict(test_ds.take(1))[0]))"
   ]
  },
  {
   "cell_type": "code",
   "execution_count": 43,
   "metadata": {},
   "outputs": [],
   "source": [
    "predictions = model_full.predict(test_ds)                                                                           # predict the probability\n",
    "predictions = np.argmax(predictions, axis=1)                                                                        # getting the predicted digit numbers based ont the probability of every np element \n",
    "mnist_competition_file = pd.DataFrame(predictions)                                                                  # converting into df\n",
    "mnist_competition_file.index += 1                                                                                   # index should start at 1\n",
    "mnist_competition_file.reset_index(level=0, inplace=True)                                                           # make the index a column \n",
    "mnist_competition_file = mnist_competition_file.rename(columns={\"index\": \"ImageId\", 0: \"Label\"}, errors=\"raise\")    # renamen them according to the competition requirements"
   ]
  },
  {
   "cell_type": "code",
   "execution_count": 44,
   "metadata": {},
   "outputs": [
    {
     "data": {
      "text/html": [
       "<div>\n",
       "<style scoped>\n",
       "    .dataframe tbody tr th:only-of-type {\n",
       "        vertical-align: middle;\n",
       "    }\n",
       "\n",
       "    .dataframe tbody tr th {\n",
       "        vertical-align: top;\n",
       "    }\n",
       "\n",
       "    .dataframe thead th {\n",
       "        text-align: right;\n",
       "    }\n",
       "</style>\n",
       "<table border=\"1\" class=\"dataframe\">\n",
       "  <thead>\n",
       "    <tr style=\"text-align: right;\">\n",
       "      <th></th>\n",
       "      <th>ImageId</th>\n",
       "      <th>Label</th>\n",
       "    </tr>\n",
       "  </thead>\n",
       "  <tbody>\n",
       "    <tr>\n",
       "      <th>0</th>\n",
       "      <td>1</td>\n",
       "      <td>2</td>\n",
       "    </tr>\n",
       "    <tr>\n",
       "      <th>1</th>\n",
       "      <td>2</td>\n",
       "      <td>0</td>\n",
       "    </tr>\n",
       "    <tr>\n",
       "      <th>2</th>\n",
       "      <td>3</td>\n",
       "      <td>9</td>\n",
       "    </tr>\n",
       "    <tr>\n",
       "      <th>3</th>\n",
       "      <td>4</td>\n",
       "      <td>0</td>\n",
       "    </tr>\n",
       "    <tr>\n",
       "      <th>4</th>\n",
       "      <td>5</td>\n",
       "      <td>3</td>\n",
       "    </tr>\n",
       "    <tr>\n",
       "      <th>...</th>\n",
       "      <td>...</td>\n",
       "      <td>...</td>\n",
       "    </tr>\n",
       "    <tr>\n",
       "      <th>27995</th>\n",
       "      <td>27996</td>\n",
       "      <td>9</td>\n",
       "    </tr>\n",
       "    <tr>\n",
       "      <th>27996</th>\n",
       "      <td>27997</td>\n",
       "      <td>7</td>\n",
       "    </tr>\n",
       "    <tr>\n",
       "      <th>27997</th>\n",
       "      <td>27998</td>\n",
       "      <td>3</td>\n",
       "    </tr>\n",
       "    <tr>\n",
       "      <th>27998</th>\n",
       "      <td>27999</td>\n",
       "      <td>9</td>\n",
       "    </tr>\n",
       "    <tr>\n",
       "      <th>27999</th>\n",
       "      <td>28000</td>\n",
       "      <td>2</td>\n",
       "    </tr>\n",
       "  </tbody>\n",
       "</table>\n",
       "<p>28000 rows × 2 columns</p>\n",
       "</div>"
      ],
      "text/plain": [
       "       ImageId  Label\n",
       "0            1      2\n",
       "1            2      0\n",
       "2            3      9\n",
       "3            4      0\n",
       "4            5      3\n",
       "...        ...    ...\n",
       "27995    27996      9\n",
       "27996    27997      7\n",
       "27997    27998      3\n",
       "27998    27999      9\n",
       "27999    28000      2\n",
       "\n",
       "[28000 rows x 2 columns]"
      ]
     },
     "execution_count": 44,
     "metadata": {},
     "output_type": "execute_result"
    }
   ],
   "source": [
    "mnist_competition_file"
   ]
  },
  {
   "cell_type": "code",
   "execution_count": 45,
   "metadata": {},
   "outputs": [],
   "source": [
    "mnist_competition_file.ImageId = mnist_competition_file.ImageId.astype(int)\n",
    "mnist_competition_file.Label = mnist_competition_file.Label.astype(int)"
   ]
  },
  {
   "cell_type": "code",
   "execution_count": 46,
   "metadata": {},
   "outputs": [],
   "source": [
    "mnist_competition_file.to_csv('mnist_submission.csv', index=False)"
   ]
  },
  {
   "cell_type": "code",
   "execution_count": null,
   "metadata": {},
   "outputs": [],
   "source": []
  }
 ],
 "metadata": {
  "interpreter": {
   "hash": "2b49f70aa2f17b03439dc8f4bbaf601f728142d0d0d774f4bbd10ea7a16b86ea"
  },
  "kernelspec": {
   "display_name": "Python 3.8.0 64-bit ('wingpuflake_keras': conda)",
   "name": "python3"
  },
  "language_info": {
   "codemirror_mode": {
    "name": "ipython",
    "version": 3
   },
   "file_extension": ".py",
   "mimetype": "text/x-python",
   "name": "python",
   "nbconvert_exporter": "python",
   "pygments_lexer": "ipython3",
   "version": "3.8.0"
  }
 },
 "nbformat": 4,
 "nbformat_minor": 5
}
